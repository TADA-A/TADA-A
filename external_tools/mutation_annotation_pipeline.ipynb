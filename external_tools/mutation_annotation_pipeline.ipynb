{
 "cells": [
  {
   "cell_type": "markdown",
   "metadata": {},
   "source": [
    "# Annotation of allele specific base level mutation rate\n",
    "\n",
    "This [SoS workflow](https://vatlab.github.io/sos-docs/) is used to generate allele-specific base level mutation rate."
   ]
  },
  {
   "cell_type": "markdown",
   "metadata": {},
   "source": [
    "## Software tools\n",
    "\n",
    "We have developed a\n",
    "[Docker container](https://hub.docker.com/r/yuwenliu/tadaa-tools) that\n",
    "includes all software components necessary to run the analyses.\n",
    "If you do not have [Docker](https://www.docker.com/community-edition) \n",
    "please download and install it to your system, following the instructions\n",
    "provided on the Docker website. Once you have installed Docker, check\n",
    "that Docker is working correctly by following [this tutorial](https://docs.docker.com/get-started).\n",
    "\n",
    "If your docker works, you need to setup your terminal with this `alias` command (run it in terminal):\n",
    "\n",
    "```\n",
    "alias tadaa-tools='docker run --rm --security-opt label:disable -t -P -h \"TADA-A Tools\" '\\\n",
    "'-w $PWD -v $HOME:/home/$USER -v /tmp:/tmp -v $PWD:$PWD '\\\n",
    "'-u $UID:${GROUPS[0]} -e HOME=/home/$USER -e USER=$USER yuwenliu/tadaa-tools'\n",
    "```\n",
    "\n",
    "Then run:\n",
    "\n",
    "```\n",
    "tadaa-tools uname -sn\n",
    "```\n",
    "\n",
    "This command will download the Docker image if it is the first time you run it.\n",
    "\n",
    "*Note:* If you get error \"Cannot connect to the Docker daemon. Is the\n",
    "docker daemon running on this host?\" in Linux or macOS, see\n",
    "[here for Linux](https://askubuntu.com/questions/477551/how-can-i-use-docker-without-sudo)\n",
    "or [here for Mac](https://github.com/wodby/docker4drupal/issues/15) for\n",
    "suggestions on how to resolve this issue."
   ]
  },
  {
   "cell_type": "markdown",
   "metadata": {},
   "source": [
    "## Run the mutation rate pipeline\n",
    "\n",
    "We provide workflows to download hg19 reference genome that will be triggered by the default analysis pipeline.\n",
    "To run the analysis, under [the TADA-A github root repo](https://github.com/TADA-A/TADA-A) for example after you download it,\n",
    "\n",
    "```\n",
    "tadaa-tools sos run external_tools/mutation_annotation_pipeline.ipynb \\\n",
    "    --window_file test_data/test_windows.txt \\\n",
    "```\n",
    "\n",
    "This will reproduce the mutation files we have provided for a default TADA-A run. \n",
    "\n",
    "To check on what command were executed exactly:\n",
    "\n",
    "```\n",
    "tadaa-tools sos dryrun external_tools/mutation_annotation_pipeline.ipynb \\\n",
    "    --window_file test_data/test_windows.txt\n",
    "```\n",
    "\n",
    "Optionally you can also provide mutation file reference etc, for example:\n",
    "\n",
    "```\n",
    "    --mutation_ref test_data/fordist_1KG_mutation_rate_table.txt\n",
    "    --hg_summary test_data/hg19.genome\n",
    "```\n",
    "\n",
    "For more advance usage please checkout [SoS documentation](https://vatlab.github.io/sos-docs/) if you have troubles customizing this pipeline."
   ]
  },
  {
   "cell_type": "markdown",
   "metadata": {},
   "source": [
    "## Pipeline in detail"
   ]
  },
  {
   "cell_type": "code",
   "execution_count": 1,
   "metadata": {
    "kernel": "SoS"
   },
   "outputs": [],
   "source": [
    "[global]\n",
    "parameter: wd = path('./mutation_pipeline_workdir')\n",
    "parameter: resource_dir = f\"{wd:a}/hg19\"\n",
    "parameter: window_file = file_target()\n",
    "parameter: mutation_ref = file_target('/data/fordist_1KG_mutation_rate_table.txt')\n",
    "parameter: hg_summary = file_target('/data/hg19.genome.txt')\n",
    "ref_fa = \"hg19.fasta\""
   ]
  },
  {
   "cell_type": "markdown",
   "metadata": {},
   "source": [
    "### Step 0: prepare human reference genome data"
   ]
  },
  {
   "cell_type": "code",
   "execution_count": 2,
   "metadata": {
    "kernel": "SoS"
   },
   "outputs": [],
   "source": [
    "[hg19: provides = file_target(f\"{resource_dir}/{ref_fa}\")]\n",
    "ucsc_url = \"http://hgdownload.cse.ucsc.edu\"\n",
    "depends: executable('twoBitToFa')\n",
    "output: f\"{resource_dir}/{ref_fa}\"\n",
    "download: dest_dir = resource_dir, expand = True\n",
    "    {ucsc_url}/goldenPath/hg19/bigZips/hg19.2bit\n",
    "bash: expand = True\n",
    "    twoBitToFa {resource_dir}/hg19.2bit {_output}"
   ]
  },
  {
   "cell_type": "markdown",
   "metadata": {},
   "source": [
    "### Step 1: prepare extended genomic windows file"
   ]
  },
  {
   "cell_type": "code",
   "execution_count": 3,
   "metadata": {
    "kernel": "SoS"
   },
   "outputs": [],
   "source": [
    "[1]\n",
    "fail_if(not window_file.is_file(), msg = f'Please provide valid window file via ``--window_file``')\n",
    "fail_if(not mutation_ref.is_file(), msg = f'Please provide valid mutation reference file via ``--mutation_ref``')\n",
    "depends: file_target(f\"{resource_dir}/{ref_fa}\")\n",
    "input: f'{window_file:a}'\n",
    "output: f'{wd:a}/{_input:bn}.mutrate.bed'\n",
    "bash: expand = \"${ }\"\n",
    "    sed '1d' ${_input} | awk {'print $1\"\\t\"$2-1\"\\t\"$3+1\"\\t\"$4'} > ${_output}"
   ]
  },
  {
   "cell_type": "markdown",
   "metadata": {},
   "source": [
    "### Step 2: Get the nucleotide sequence of each interval in tab format"
   ]
  },
  {
   "cell_type": "code",
   "execution_count": 4,
   "metadata": {
    "kernel": "SoS"
   },
   "outputs": [],
   "source": [
    "[2]\n",
    "depends: executable(\"bedtools\")\n",
    "output: f'{_input:n}.fasta'\n",
    "bash: expand = True\n",
    "    bedtools getfasta -fi {resource_dir}/{ref_fa} -bed {_input} -fo {_output} -tab"
   ]
  },
  {
   "cell_type": "markdown",
   "metadata": {},
   "source": [
    "### Step 3: Use the output file to extract tri-nuleotide sequence of each base within the window intervals"
   ]
  },
  {
   "cell_type": "code",
   "execution_count": 5,
   "metadata": {
    "kernel": "SoS"
   },
   "outputs": [],
   "source": [
    "[3]\n",
    "depends: executable('tri_extract_for_TADA-A.py'), executable('MutRateBase_for_TADA-A_v2.py')\n",
    "output: f'{_input}.tri'\n",
    "bash: expand = True\n",
    "    tri_extract_for_TADA-A.py {_input} > {_output}\n",
    "_input.zap()"
   ]
  },
  {
   "cell_type": "markdown",
   "metadata": {},
   "source": [
    "### Step 4:Assesing mutation rate\n",
    "Use .tri file as an input file to get the allele-specific mutation rate. "
   ]
  },
  {
   "cell_type": "code",
   "execution_count": 6,
   "metadata": {
    "kernel": "SoS"
   },
   "outputs": [],
   "source": [
    "[4]\n",
    "depends: executable('MutRateBase_for_TADA-A_v2.py'), mutation_ref\n",
    "output: f'{_input:n}.tri.mr'\n",
    "bash: expand = True\n",
    "    MutRateBase_for_TADA-A_v2.py {mutation_ref:a} {_input} > {_output}\n",
    "_input.zap()"
   ]
  },
  {
   "cell_type": "markdown",
   "metadata": {},
   "source": [
    "### Step 5: generte mutrate file base on the alternative nucleotide"
   ]
  },
  {
   "cell_type": "code",
   "execution_count": 7,
   "metadata": {
    "kernel": "SoS"
   },
   "outputs": [],
   "source": [
    "[5]\n",
    "alt = list('GCTA')\n",
    "input: for_each = 'alt', group_by = 1, concurrent = True\n",
    "output: [f'{_input[0]:n}.alt_{x}.mr' for x in alt], group_by = 1\n",
    "bash: expand = True\n",
    "    awk '$5 == \"{_alt}\"' {_input} > {_output}"
   ]
  },
  {
   "cell_type": "markdown",
   "metadata": {},
   "source": [
    "### Step 6: Generate alternative-allele-specific Wig file"
   ]
  },
  {
   "cell_type": "code",
   "execution_count": 8,
   "metadata": {
    "kernel": "SoS"
   },
   "outputs": [],
   "source": [
    "[6]\n",
    "depends: executable('base_mutarate_to_wiggle_file.sh')\n",
    "input: group_by = 1, concurrent = True\n",
    "output: f'{_input}.wiggle'\n",
    "bash: expand = True\n",
    "    base_mutarate_to_wiggle_file.sh {_input}"
   ]
  },
  {
   "cell_type": "markdown",
   "metadata": {},
   "source": [
    "### Step 7: tranform Wig file to bigwig file"
   ]
  },
  {
   "cell_type": "code",
   "execution_count": 9,
   "metadata": {
    "kernel": "SoS"
   },
   "outputs": [],
   "source": [
    "[7]\n",
    "depends: executable('wigToBigWig'), hg_summary\n",
    "input: group_by = 1, concurrent = True\n",
    "output: f'{_input:n}.bw'\n",
    "bash: expand = True\n",
    "    wigToBigWig {_input} {hg_summary:a} {_output}"
   ]
  }
 ],
 "metadata": {
  "kernelspec": {
   "display_name": "SoS",
   "language": "sos",
   "name": "sos"
  },
  "language_info": {
   "codemirror_mode": "sos",
   "file_extension": ".sos",
   "mimetype": "text/x-sos",
   "name": "sos",
   "nbconvert_exporter": "sos_notebook.converter.SoS_Exporter",
   "pygments_lexer": "sos"
  },
  "sos": {
   "default_kernel": "SoS",
   "kernels": [
    [
     "SoS",
     "sos",
     "",
     ""
    ]
   ],
   "panel": {
    "displayed": true,
    "height": 0,
    "style": "side"
   },
   "version": "0.9.13.2"
  }
 },
 "nbformat": 4,
 "nbformat_minor": 2
}
